{
 "cells": [
  {
   "cell_type": "markdown",
   "metadata": {},
   "source": [
    "# Sentiment Decider\n",
    "\n",
    "Welcome to your first day on the job at the fancy tech company, Mamazon. Here at Mamazon, we like to learn all that we can from our customers to make sure that they are happy with our products. In order to do this, we analyze all of the reviews that are posted for every product. Our two main goals are:\n",
    "1. For all products with more positive reviews, we want to promote those by ranking them higher in the search results. For all products with more negative reviews, we want to punish those by ranking them lower in the search results.\n",
    "2. Since every review has a text element and a rating element, we want to check to make sure that the reviews are accurate. So for every review, we want to check to see if the sentiment for the review matches the rating that reviewer gave for the product."
   ]
  },
  {
   "cell_type": "markdown",
   "metadata": {},
   "source": [
    "## Task #1: Create Your Sentiment Analyzer"
   ]
  },
  {
   "cell_type": "markdown",
   "metadata": {},
   "source": [
    "### Step 1: What's the sentiment of all of the reviews combined?\n",
    "To get us started on the right track, you will be creating a function that analyzes the sentiment of all of Mamazon reviews that we will be analyzing. In order to create this function, you will have access to 2 text files: positivewords.txt and negativewords.txt. You will start by creating a dictionary for all of the positive words and a dictionary for all of the negative words. For each word you encounter from all of the amazon reviews, you will keep track of how many positive words you come across and how many negative words you come across.\n",
    "\n",
    "Your function should take in three parameters: positiveWordsFile, negativeWordsFile, and reviewsFile. These are all strings that represent the name of those files, respectively. Your function will need to:\n",
    "1. Create the dictionaries to store the positive and negative words\n",
    "2. Open and read the review file\n",
    "3. Parse all of the words in the file\n",
    "4. Count how many positive and negative words you've encountered\n",
    "5. Print the quanitity of positive and negative words\n",
    "5. Return a string that lets us know if the majority of the reviews were positive or negative. If there are more positive reviews, return \"The Reviews are Mostly Positive\". If there are more negative reviews, return \"The Reviews are Mostly Negative\"."
   ]
  },
  {
   "cell_type": "code",
   "execution_count": null,
   "metadata": {},
   "outputs": [],
   "source": [
    "#First things first... what is a dictionary?\n"
   ]
  },
  {
   "cell_type": "code",
   "execution_count": 32,
   "metadata": {},
   "outputs": [],
   "source": [
    "def totalReviewSentiment(positiveWordsFile, negativeWordsFile, reviewsFile):\n",
    "    #your code here"
   ]
  },
  {
   "cell_type": "code",
   "execution_count": 33,
   "metadata": {},
   "outputs": [
    {
     "name": "stdout",
     "output_type": "stream",
     "text": [
      "Total positive words used: 613312\n",
      "Total negative words used: 344299\n"
     ]
    },
    {
     "data": {
      "text/plain": [
       "'The Reviews Are Mostly Positive'"
      ]
     },
     "execution_count": 33,
     "metadata": {},
     "output_type": "execute_result"
    }
   ],
   "source": [
    "totalReviewSentiment(\"positivewords.txt\",\"negativewords.txt\",\"reviews.txt\")"
   ]
  },
  {
   "cell_type": "markdown",
   "metadata": {},
   "source": [
    "Phew. that is one long function! Is there any way we can make this function smaller?"
   ]
  },
  {
   "cell_type": "code",
   "execution_count": null,
   "metadata": {},
   "outputs": [],
   "source": []
  },
  {
   "cell_type": "markdown",
   "metadata": {},
   "source": [
    "### Step 2: What's the sentiment of a single review?\n",
    "For this task, you will be creating a function that analyzes the sentiment of a single Mamazon review. This function will take in a string *review*, and calculate the sentiment for that review. It will also take in *posWordsDict* and *negWordsDict* which both represent dictionaries of each of the positive and negative words.\n",
    "\n",
    "In order to calculate the sentiment, we are going to first calculate just the positive sentiment. This can be calculated by dividing the number of positive words over the number of total words for a review.\n",
    "\n",
    "Example #1: If I had 3 positive words and 2 negative words in a sentence, then my **positive sentiment** would be positive words / total words --> 3/5 --> 0.6\n",
    "\n",
    "Example #2: If I had 12 negative words and 6 positive words in a sentence, then my **positive sentiment** would be positive words / total words --> 6/18 --> 0.3333333333333333\n",
    "\n",
    "Now that we have our positive sentiment caclulated... how do we calculate the negative sentiment?\n",
    "Well, it's just the inverse of the positive sentiment!\n",
    "\n",
    "Example #1: negative words / total words --> 2/5 --> 0.4 == 1 - 0.6(positive sentiment)\n",
    "Example #2: negative words / total words --> 12/18 --> 0.66666666 == 1 - 0.3333333(positive sentiment)\n",
    "\n",
    "How can we tell if a review is more positive or more negative?\n",
    "\n",
    "Well, if we just calculate the positive sentiment - then we can check if that number is above 0.5 or below 0.5.\n",
    "\n",
    "positiveSentiment > 0.5 == review that is more positive than negative\n",
    "positiveSentiment < 0.5 == review that is more negative than positive\n",
    "\n",
    "For your function, you will return a string that states whether this review was more positive or more negative. If it was more positive, print \"This review has a positive sentiment\". If the review is more negative, print \"This review has a negative sentiment\"."
   ]
  },
  {
   "cell_type": "code",
   "execution_count": 47,
   "metadata": {},
   "outputs": [],
   "source": [
    "def reviewSentiment(review,posWordsDict,negWordsDict):\n",
    "    #your code here"
   ]
  },
  {
   "cell_type": "code",
   "execution_count": null,
   "metadata": {},
   "outputs": [],
   "source": [
    "#Test the function using code that we already wrote:\n",
    "posFileHandler = open(\"positivewords.txt\",\"r\")\n",
    "posContent = posFileHandler.read()\n",
    "posWords = posContent.splitlines()\n",
    "\n",
    "negFileHandler = open(\"negativewords.txt\",\"r\")\n",
    "negContent = negFileHandler.read()\n",
    "negWords = negContent.splitlines()\n",
    "\n",
    "posWordsDict = getEmptyPosDictionary(posWords)\n",
    "negWordsDict = getEmptyNegDictionary(negWords)\n",
    "\n",
    "#our testing code here"
   ]
  }
 ],
 "metadata": {
  "kernelspec": {
   "display_name": "Python 3",
   "language": "python",
   "name": "python3"
  },
  "language_info": {
   "codemirror_mode": {
    "name": "ipython",
    "version": 3
   },
   "file_extension": ".py",
   "mimetype": "text/x-python",
   "name": "python",
   "nbconvert_exporter": "python",
   "pygments_lexer": "ipython3",
   "version": "3.7.6"
  }
 },
 "nbformat": 4,
 "nbformat_minor": 2
}
