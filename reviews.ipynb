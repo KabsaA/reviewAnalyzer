{
 "cells": [
  {
   "cell_type": "markdown",
   "metadata": {},
   "source": [
    "# Amazon Reviews Analyzer"
   ]
  },
  {
   "cell_type": "code",
   "execution_count": 14,
   "metadata": {},
   "outputs": [],
   "source": [
    "def getEmptyPosDictionary(posWords):\n",
    "    #2. Create the dictionaries with their default values\n",
    "    posWordsDict = {}\n",
    "    for word in posWords:\n",
    "        if word not in posWordsDict:\n",
    "            posWordsDict[word] = 0\n",
    "    return posWordsDict"
   ]
  },
  {
   "cell_type": "code",
   "execution_count": 15,
   "metadata": {},
   "outputs": [],
   "source": [
    "def getEmptyNegDictionary(negWords):\n",
    "    negWordsDict = {}\n",
    "    for word in negWords:\n",
    "        if word not in negWordsDict:\n",
    "            negWordsDict[word] = 0\n",
    "            \n",
    "    return negWordsDict"
   ]
  },
  {
   "cell_type": "code",
   "execution_count": 16,
   "metadata": {},
   "outputs": [],
   "source": [
    "def countWords(reviewsFile,posWordsDict,negWordsDict):\n",
    "    #3. Open the reviews + keep track of the pos/neg word counts in each dictionary\n",
    "    reviewsFileHandler = open(reviewsFile, \"r\")\n",
    "    allReviews = reviewsFileHandler.read()\n",
    "    allWords = allReviews.split()\n",
    "    for word in allWords:\n",
    "        if word in posWordsDict:\n",
    "            posWordsDict[word] += 1\n",
    "        elif word in negWordsDict:\n",
    "            negWordsDict[word] += 1\n",
    "    return[posWordsDict,negWordsDict]"
   ]
  },
  {
   "cell_type": "code",
   "execution_count": 17,
   "metadata": {},
   "outputs": [],
   "source": [
    "def getPosNegCount(posWordsDict,negWordsDict):\n",
    "    #4. Calculate the final pos/neg word counts and return\n",
    "    totalPosWords = 0\n",
    "    totalNegWords = 0\n",
    "    for posWord in posWordsDict:\n",
    "        numTimesPosWordUsed = posWordsDict[posWord]\n",
    "        if numTimesPosWordUsed > 0:\n",
    "            totalPosWords += numTimesPosWordUsed\n",
    "    for negWord in negWordsDict:\n",
    "        numTimesNegWordUsed = negWordsDict[negWord]\n",
    "        if numTimesNegWordUsed > 0:\n",
    "            totalNegWords += numTimesNegWordUsed\n",
    "    return[totalPosWords,totalNegWords]"
   ]
  },
  {
   "cell_type": "code",
   "execution_count": 18,
   "metadata": {},
   "outputs": [],
   "source": [
    "# You can also take this a step further and put each function in its own cell!\n",
    "#Just make sure that any function that is called is defined *ABOVE* (before) where it is called\n",
    "def totalReviewSentiment(positiveWordsFile, negativeWordsFile, reviewsFile):\n",
    "    #1. Open the files and get the words in a list\n",
    "    posFileHandler = open(positiveWordsFile,\"r\")\n",
    "    posContent = posFileHandler.read()\n",
    "    posWords = posContent.splitlines()\n",
    "    \n",
    "    negFileHandler = open(negativeWordsFile,\"r\")\n",
    "    negContent = negFileHandler.read()\n",
    "    negWords = negContent.splitlines()\n",
    "    \n",
    "    #2. Create the dictionaries with their default values\n",
    "    posWordsDict = getEmptyPosDictionary(posWords)\n",
    "    negWordsDict = getEmptyNegDictionary(negWords)\n",
    "    \n",
    "    #3. Open the reviews + keep track of the pos/neg word counts in each dictionary\n",
    "    [posWordsDict,negWordsDict] = countWords(reviewsFile,posWordsDict,negWordsDict)\n",
    "    \n",
    "    #4. Calculate the final pos/neg word counts and return\n",
    "    [totalPosWords,totalNegWords] = getPosNegCount(posWordsDict,negWordsDict)\n",
    "    \n",
    "    print(\"Total positive words used: \" + str(totalPosWords))\n",
    "    print(\"Total negative words used: \" + str(totalNegWords))\n",
    "    \n",
    "    if totalPosWords > totalNegWords:\n",
    "        return(\"The Reviews Are Mostly Positive\")\n",
    "    else:\n",
    "        return(\"The Reviews Are Mostly Negative\")\n",
    "    "
   ]
  },
  {
   "cell_type": "markdown",
   "metadata": {},
   "source": [
    "### Step 2: What's the sentiment of a single review?\n",
    "For this task, you will be creating a function that analyzes the sentiment of a single Mamazon review. This function will take in a string *review*, and calculate the sentiment for that review. It will also take in *posWordsDict* and *negWordsDict* which both represent dictionaries of each of the positive and negative words.\n",
    "\n",
    "In order to calculate the sentiment, we are going to first calculate just the positive sentiment. This can be calculated by dividing the number of positive words over the number of total words for a review.\n",
    "\n",
    "Example #1: If I had 3 positive words and 2 negative words in a sentence, then my **positive sentiment** would be positive words / total words --> 3/5 --> 0.6\n",
    "\n",
    "Example #2: If I had 12 negative words and 6 positive words in a sentence, then my **positive sentiment** would be positive words / total words --> 6/18 --> 0.3333333333333333\n",
    "\n",
    "Now that we have our positive sentiment caclulated... how do we calculate the negative sentiment?\n",
    "Well, it's just the inverse of the positive sentiment!\n",
    "\n",
    "Example #1: negative words / total words --> 2/5 --> 0.4 == 1 - 0.6(positive sentiment)\n",
    "\n",
    "Example #2: negative words / total words --> 12/18 --> 0.66666666 == 1 - 0.3333333(positive sentiment)\n",
    "\n",
    "How can we tell if a review is more positive or more negative?\n",
    "\n",
    "Well, if we just calculate the positive sentiment - then we can check if that number is above 0.5 or below 0.5.\n",
    "\n",
    "positiveSentiment > 0.5 == review that is more positive than negative\n",
    "positiveSentiment < 0.5 == review that is more negative than positive\n",
    "\n",
    "For your function, you will return a string that states whether this review was more positive or more negative. If it was more positive, print \"This review has a positive sentiment\". If the review is more negative, print \"This review has a negative sentiment\"."
   ]
  },
  {
   "cell_type": "code",
   "execution_count": null,
   "metadata": {},
   "outputs": [],
   "source": []
  },
  {
   "cell_type": "code",
   "execution_count": 19,
   "metadata": {},
   "outputs": [],
   "source": [
    "def reviewSentiment(review,posWordsDict,negWordsDict):\n",
    "    #your code here\n",
    "    \n",
    "    posWords = 0\n",
    "    negWords = 0\n",
    "    \n",
    "    #get all the words from the review\n",
    "    reviewWordsList = review.split()\n",
    "    \n",
    "    #loop through the words from the review\n",
    "    for word in reviewWordsList:\n",
    "        #1. is the word positive or negative?\n",
    "        if word in posWordsDict:\n",
    "            #do something\n",
    "            posWords += 1\n",
    "        #2. count how many positive and negative words we are encountering\n",
    "        if word in negWordsDict:\n",
    "            #do something\n",
    "            negWords += 1\n",
    "        \n",
    "    #calculate the positive sentiment / negative sentiment of the review\n",
    "        #hint: you only need to calculate the positive sentiment ratio and check if it is\n",
    "        #above or below 0.5 to know the answer this\n",
    "    #3. how do we calculate the positive sentiment ratio?\n",
    "    positiveSentiment = posWords / (posWords + negWords)\n",
    "    \n",
    "    #4. return a string that says whether this review is more positive or negative\n",
    "    print(positiveSentiment)\n",
    "    if positiveSentiment > 0.5:\n",
    "        print(\"This review has a positive sentiment\")\n",
    "    elif positiveSentiment < 0.5:\n",
    "        print(\"This review has a negative sentiment\")\n",
    "    else:\n",
    "        print(\"This review was entirely neutral\")"
   ]
  },
  {
   "cell_type": "code",
   "execution_count": 20,
   "metadata": {},
   "outputs": [
    {
     "name": "stdout",
     "output_type": "stream",
     "text": [
      "Total positive words used: 613312\n",
      "Total negative words used: 344299\n"
     ]
    },
    {
     "data": {
      "text/plain": [
       "'The Reviews Are Mostly Positive'"
      ]
     },
     "execution_count": 20,
     "metadata": {},
     "output_type": "execute_result"
    }
   ],
   "source": [
    "totalReviewSentiment(\"positivewords.txt\",\"negativewords.txt\",\"reviews.txt\")"
   ]
  },
  {
   "cell_type": "code",
   "execution_count": 21,
   "metadata": {},
   "outputs": [
    {
     "name": "stdout",
     "output_type": "stream",
     "text": [
      "Total positive words used: 613312\n",
      "Total negative words used: 344299\n"
     ]
    },
    {
     "data": {
      "text/plain": [
       "'The Reviews Are Mostly Positive'"
      ]
     },
     "execution_count": 21,
     "metadata": {},
     "output_type": "execute_result"
    }
   ],
   "source": [
    "totalReviewSentiment(\"positivewords.txt\",\"negativewords.txt\",\"reviews.txt\")"
   ]
  },
  {
   "cell_type": "code",
   "execution_count": 22,
   "metadata": {},
   "outputs": [],
   "source": [
    "#Test the function using code that we already wrote:\n",
    "posFileHandler = open(\"positivewords.txt\",\"r\")\n",
    "posContent = posFileHandler.read()\n",
    "posWords = posContent.splitlines()\n",
    "\n",
    "negFileHandler = open(\"negativewords.txt\",\"r\")\n",
    "negContent = negFileHandler.read()\n",
    "negWords = negContent.splitlines()\n",
    "\n",
    "posWordsDict = getEmptyPosDictionary(posWords)\n",
    "negWordsDict = getEmptyNegDictionary(negWords)\n"
   ]
  },
  {
   "cell_type": "code",
   "execution_count": 23,
   "metadata": {},
   "outputs": [
    {
     "name": "stdout",
     "output_type": "stream",
     "text": [
      "1.0\n",
      "This review has a positive sentiment\n"
     ]
    }
   ],
   "source": [
    "review = \"I really enjoyed this product!!!\"\n",
    "reviewSentiment(review,posWordsDict,negWordsDict)"
   ]
  },
  {
   "cell_type": "code",
   "execution_count": 24,
   "metadata": {},
   "outputs": [
    {
     "name": "stdout",
     "output_type": "stream",
     "text": [
      "0.0\n",
      "This review has a negative sentiment\n"
     ]
    }
   ],
   "source": [
    "review = \"I really hated this product!!!\"\n",
    "reviewSentiment(review,posWordsDict,negWordsDict)"
   ]
  },
  {
   "cell_type": "code",
   "execution_count": 25,
   "metadata": {},
   "outputs": [
    {
     "name": "stdout",
     "output_type": "stream",
     "text": [
      "0.5\n",
      "This review was entirely neutral\n"
     ]
    }
   ],
   "source": [
    "review = \"I really hated and loved this product but ultimately it was okay!!!\"\n",
    "reviewSentiment(review,posWordsDict,negWordsDict)"
   ]
  },
  {
   "cell_type": "code",
   "execution_count": null,
   "metadata": {},
   "outputs": [],
   "source": []
  },
  {
   "cell_type": "code",
   "execution_count": null,
   "metadata": {},
   "outputs": [],
   "source": []
  }
 ],
 "metadata": {
  "kernelspec": {
   "display_name": "Python 3",
   "language": "python",
   "name": "python3"
  },
  "language_info": {
   "codemirror_mode": {
    "name": "ipython",
    "version": 3
   },
   "file_extension": ".py",
   "mimetype": "text/x-python",
   "name": "python",
   "nbconvert_exporter": "python",
   "pygments_lexer": "ipython3",
   "version": "3.7.6"
  }
 },
 "nbformat": 4,
 "nbformat_minor": 2
}
